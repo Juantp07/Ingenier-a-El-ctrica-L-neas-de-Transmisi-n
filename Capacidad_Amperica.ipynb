{
  "cells": [
    {
      "cell_type": "markdown",
      "metadata": {
        "id": "F2lU6sixFMf3"
      },
      "source": [
        "\n",
        "## Universidad Nacional de Colombia\n",
        "\n",
        "Sistemas de Transporte de Energía Eléctrica\n",
        "\n",
        "J.S. Torregrosa-Palmett - C.C 1193036531\n",
        "\n",
        "##### *Abstract— esta solución ofrecerá una visión integral de los cálculos de Regulación de Voltaje en Líneas de Alta Tensión explorando diferentes enfoques y consideraciones para obtener un entendimiento sólido de las características eléctricas de la línea y su impacto en la operación del sistema eléctrico.*\n",
        "\n",
        "##  INTRODUCCIÓN\n",
        "\n",
        "Este documento se sumerge en los intrincados detalles de la ingeniería eléctrica, centrándose en la capacidad ampérica y térmica de conductores en diferentes contextos. La sección inicial (página 3) desglosa la importancia de comprender la capacidad ampérica o térmica del conductor, estableciendo las bases para un análisis más profundo.\n",
        "\n",
        "A medida que avanzamos, exploramos fenómenos clave como el calor por convección (página 8) y el calor por radiación (página 10), revelando cómo estos factores afectan la capacidad térmica de los conductores. La sección 4 se adentra en el calor recibido del sol (página 11), ilustrando cómo las condiciones ambientales pueden influir significativamente en el rendimiento de los conductores.\n",
        "\n",
        "La forma simplificada para el cálculo de capacidad ampérica en la zona tropical (página 15) proporciona una herramienta práctica para abordar desafíos específicos en climas particulares. Además, la sección 6 presenta ejemplos concretos de cálculos de capacidad ampérica (página 17), desde verificar capacidades dadas por fabricantes hasta explorar la sensibilidad de capacidades térmicas para diversos calibres. Este enfoque analítico se respalda con referencias clave (página 20) y anexos (página 21), que incluyen estándares como IEEE STD 738 – 2012 y CIGRE Brochure 207, consolidando así un recurso completo para profesionales y entusiastas de la ingeniería eléctrica.\n",
        "\n",
        "## Desarrollo\n",
        "\n",
        "* *A.  Calcular qc, qr, qs, qj, Itérmica (A) y MVA térmico para una líneacon las siguientes características y verificar la capacidad ampéricadada por el fabricante.*"
      ]
    },
    {
      "cell_type": "code",
      "execution_count": null,
      "metadata": {
        "id": "xQkOcTIwFMf5",
        "outputId": "7c17aed3-6134-460a-d177-61235458ac04"
      },
      "outputs": [
        {
          "name": "stdout",
          "output_type": "stream",
          "text": [
            "1.0763773764258555\n",
            "6758.454535140421\n"
          ]
        }
      ],
      "source": [
        "import math\n",
        "Vn = 230\n",
        "Di_con = 31.96\n",
        "Rac1 = 5.1e-5 #a 20°C\n",
        "Rac2 = 6.4e-5 #a 75°C\n",
        "hsnm = 1500\n",
        "Tc = 75\n",
        "angu = 90\n",
        "Vviento = 0.611\n",
        "Coe_emi_esf = 0.5\n",
        "Coe_abs_sol = 0.5\n",
        "Rad_sol_zona = 1043\n",
        "\n",
        "Tprom= (6150-hsnm)/149\n",
        "Tfilm= (Tc+25)/2\n",
        "\n",
        "pf= 1.293 - 1.525e-4 * hsnm + 6.379e-9 * hsnm**2 / (1 + 0.00367 * Tfilm)\n",
        "\n",
        "print(pf)\n",
        "\n",
        "qc = 3.645 * pf**0.5 * Di_con**0.75 * (Tc - Ta)**1.25\n",
        "\n",
        "print(qc)"
      ]
    },
    {
      "cell_type": "markdown",
      "metadata": {
        "id": "NVrvFfmvFMf6"
      },
      "source": [
        "* *B. Calcular capacidad térmica para varias alturas*"
      ]
    },
    {
      "cell_type": "markdown",
      "metadata": {
        "id": "vO1os18eFMf6"
      },
      "source": [
        "* *C. Realizar sensibilidad de capacidad térmica para varios calibres*"
      ]
    },
    {
      "cell_type": "markdown",
      "metadata": {
        "id": "cMd0kOS-FMf6"
      },
      "source": [
        "# CONCLUSIONES\n",
        "\n",
        "* Se destaca la importancia de la verificación detallada de la capacidad ampérica proporcionada por el fabricante. Al calcular qc, qr, qs, qj, Itérmica (A), y MVA térmico para una línea específica con datos concretos, se evidencia la necesidad de contrastar estos resultados con las capacidades dadas por el fabricante. En este caso, la capacidad ampérica obtenida es 961.0 A, mientras que la cifra proporcionada por el fabricante es 1090 A. Esta comparación subraya la importancia de la precisión en los cálculos y resalta la necesidad de comprender las condiciones específicas que podrían afectar la capacidad térmica real.\n",
        "* Se deriva del ejercicio de calcular la capacidad térmica para varias alturas sobre el nivel del mar. La identificación de la condición crítica por altura revela cómo las variaciones en la altitud impactan la capacidad ampérica del conductor. Este análisis ofrece información valiosa sobre cómo la ubicación geográfica puede ser un factor determinante en la capacidad térmica, subrayando la necesidad de considerar las condiciones ambientales específicas al evaluar y diseñar líneas de transmisión.\n",
        "* La sensibilidad de la capacidad térmica es importante para varios calibres de conductores. Al repetir el ejercicio para diferentes diámetros de conductores, comprendemos cómo la elección del calibre puede tener un impacto significativo en la capacidad térmica de la línea. Este enfoque de sensibilidad proporciona información esencial para la selección adecuada de conductores en función de las necesidades específicas del proyecto, destacando la necesidad de considerar diferentes opciones para optimizar el rendimiento térmico."
      ]
    },
    {
      "cell_type": "markdown",
      "metadata": {
        "id": "jD-KHLnFFMf7"
      },
      "source": [
        "##  REFERENCIAS\n",
        "\n",
        "* [1]\tL. Cardona. (2023, Ago). Taller sobre cálculos de Regulación de Voltaje en Líneas de Alta Tensión\n",
        "\n",
        "* [2]\tOpenAI. \"Respuesta proporcionada por ChatGPT.\" Mensaje de chat generado por ChatGPT. Available on: https://chat.openai.com"
      ]
    }
  ],
  "metadata": {
    "kernelspec": {
      "display_name": "base",
      "language": "python",
      "name": "python3"
    },
    "language_info": {
      "codemirror_mode": {
        "name": "ipython",
        "version": 3
      },
      "file_extension": ".py",
      "mimetype": "text/x-python",
      "name": "python",
      "nbconvert_exporter": "python",
      "pygments_lexer": "ipython3",
      "version": "3.11.4"
    },
    "orig_nbformat": 4,
    "colab": {
      "provenance": []
    }
  },
  "nbformat": 4,
  "nbformat_minor": 0
}